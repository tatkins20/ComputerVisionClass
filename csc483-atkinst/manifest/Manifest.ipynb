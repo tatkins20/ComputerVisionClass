{
 "cells": [
  {
   "cell_type": "markdown",
   "metadata": {},
   "source": [
    "Link to Class Projects:\n",
    "\n",
    "Here is a link to [Project 1](project1.ipynb) Date of last revision: 11/26/2019 - Please check the rework (assignment I want points back for - reworked the Red, Green, Blue channels so that they are actually the images of the channels and not the RGB values themselves as well as making the histogram function to work.)\n",
    "\n",
    "Here is a link to [Project 2 Testing](proj2_test_filtering.ipynb) Date of last revision: 9/30/19\n",
    "\n",
    "Here is a link to [Project 2](proj2.ipynb) Date of last revision: 9/30/19\n",
    "\n",
    "Here is a link to [Project 3A](Project3A.ipynb) Date of last revision: 10/28/19 - Please check the rework (assignment I want points back for - reworked the hough transform function and the images that appear for the function)\n",
    "\n",
    "Here is a link to [Project 3B](Project3B.ipynb) Date of last revision: 10/30/19 - Please check the rework (assignment I want points back for - reworked the images so that they are in grayscale instead of color)\n",
    "\n",
    "Here is a link to [Project 4](Project-4-Harris.ipynb) Date of last revision: 10/28/19 - Please check the rework (assignment I want points back for - improved the harris and show how it works by using the image and comparing it to openCV)\n",
    "\n",
    "Here is a link to [Project 5](proj5.ipynb) Date of last revision: 11/20/19 \n",
    "\n",
    "Here is a link to [Final Project](Planaria_Final_Project.ipynb) Date of last revision: 11/24/19\n",
    "\n",
    "Link to Independent Work (Research/Projects):\n",
    "\n",
    "Here is a link to [Geometric Transformation](Geometric_Transformation.ipynb) Date of last revision: 10/22/19"
   ]
  },
  {
   "cell_type": "markdown",
   "metadata": {},
   "source": [
    "Trevor: this is very sparse.  Can you elaborate on what assignments you want points back for, and what you did to earn those points?  Also, the Geometric Transform looked promising, but doesn't run at all, and contains no explanatory text!  Remember the value of jupyter notebooks is that they allow you to mix text and code and results!"
   ]
  }
 ],
 "metadata": {
  "kernelspec": {
   "display_name": "Python 3",
   "language": "python",
   "name": "python3"
  },
  "language_info": {
   "codemirror_mode": {
    "name": "ipython",
    "version": 3
   },
   "file_extension": ".py",
   "mimetype": "text/x-python",
   "name": "python",
   "nbconvert_exporter": "python",
   "pygments_lexer": "ipython3",
   "version": "3.6.8"
  }
 },
 "nbformat": 4,
 "nbformat_minor": 2
}
